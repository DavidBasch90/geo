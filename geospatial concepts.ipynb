{
 "cells": [
  {
   "cell_type": "markdown",
   "id": "bdd1d793",
   "metadata": {},
   "source": [
    "<h1>Geospatial Concepts</h1>"
   ]
  },
  {
   "cell_type": "markdown",
   "id": "4565175c",
   "metadata": {},
   "source": [
    "Objectives\n",
    "<li>Review basic geospatial concepts about discrete features (points, lines, polygons)\n",
    "\n",
    "<li>Review basic, common types of geospatial operations, including read/write, reprojection, and spatial operators"
   ]
  },
  {
   "cell_type": "markdown",
   "id": "d176d3a8",
   "metadata": {},
   "source": [
    "<h2> Key Points </h2>"
   ]
  },
  {
   "cell_type": "markdown",
   "id": "6b01a14b",
   "metadata": {},
   "source": [
    "<li> A common terminology and set of concepts has been defined by the OGC Simple feature Access, and is widely used across open source geospatial libraries\n",
    "<li> Core geometric objects (point, line and polyon) and their multi-part collections (multi-point, multi-line, multi-polygon) are building blocks for vector data and operations\n",
    "<li> A \"feature\" is made up of a geometry and attributes\n",
    "<li> Know your projection and the need to transform to another projection (reproject)"
   ]
  },
  {
   "cell_type": "code",
   "execution_count": null,
   "id": "ef82580f",
   "metadata": {},
   "outputs": [],
   "source": []
  }
 ],
 "metadata": {
  "kernelspec": {
   "display_name": "Python 3",
   "language": "python",
   "name": "python3"
  },
  "language_info": {
   "codemirror_mode": {
    "name": "ipython",
    "version": 3
   },
   "file_extension": ".py",
   "mimetype": "text/x-python",
   "name": "python",
   "nbconvert_exporter": "python",
   "pygments_lexer": "ipython3",
   "version": "3.8.8"
  }
 },
 "nbformat": 4,
 "nbformat_minor": 5
}
